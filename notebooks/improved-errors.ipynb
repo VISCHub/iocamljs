{
  "worksheets": [
    {
      "cells": [
        {
          "outputs": [
            {
              "html": [
                "<pre style=\"color:red\">File &quot;[1]&quot;, line 2, characters 0-9:\n",
                "Error: The function `print_int' expects one argument of type [int], \n",
                "       but it is given one argument of type [unit -&gt; int].\n",
                "\n",
                "You probably forgot to provide `()' as argument somewhere.\n",
                "\n",
                "Characters 48-57:\n",
                "  print_int x\n",
                "  ^^^^^^^^^\n",
                "</pre>"
              ],
              "output_type": "pyout",
              "prompt_number": 1,
              "metadata": {}
            }
          ],
          "input": [
            "let x = read_int in (* missing unit argument *)\n",
            "print_int x"
          ],
          "metadata": {},
          "cell_type": "code",
          "prompt_number": 1,
          "language": "python",
          "collapsed": false
        },
        {
          "outputs": [
            {
              "html": [
                "<pre style=\"color:red\">File &quot;[2]&quot;, line 3, characters 4-17:\n",
                "Error: This expression is followed by a semi-colon, so it should have type \n",
                "       [unit] but it has type [unit -&gt; unit].\n",
                "       \n",
                "You probably forgot to provide `()' as argument.\n",
                "       \n",
                "Characters 30-43:\n",
                "      print_newline; (* missing unit argument *)\n",
                "      ^^^^^^^^^^^^^\n",
                "</pre>"
              ],
              "output_type": "pyout",
              "prompt_number": 2,
              "metadata": {}
            }
          ],
          "input": [
            "let _ = \n",
            "    print_int 3;\n",
            "    print_newline; (* missing unit argument *)\n",
            "    print_int 5"
          ],
          "metadata": {},
          "cell_type": "code",
          "prompt_number": 2,
          "language": "python",
          "collapsed": false
        },
        {
          "outputs": [
            {
              "html": [
                "<pre style=\"color:red\">File &quot;[3]&quot;, line 2, characters 0-9:\n",
                "Error: The function `print_int' expects one argument of type [int], \n",
                "       but it is given one argument of type [int ref].\n",
                "\n",
                "You probably forgot a `!' operator somewhere.\n",
                "\n",
                "Characters 17-26:\n",
                "  print_int r (* should be [!r] *)\n",
                "  ^^^^^^^^^\n",
                "</pre>"
              ],
              "output_type": "pyout",
              "prompt_number": 3,
              "metadata": {}
            }
          ],
          "input": [
            "let r = ref 1 in\n",
            "print_int r (* should be [!r] *)"
          ],
          "metadata": {},
          "cell_type": "code",
          "prompt_number": 3,
          "language": "python",
          "collapsed": false
        },
        {
          "outputs": [
            {
              "html": [
                "<pre style=\"color:slategray;max-height:100px;overflow:hidden\" onclick=\"if (this.style.maxHeight === 'none') this.style.maxHeight = '100px'; else this.style.maxHeight = 'none'; \">val f : int -&gt; int -&gt; int ref = &lt;fun&gt;\n",
                "</pre>"
              ],
              "output_type": "pyout",
              "prompt_number": 4,
              "metadata": {}
            },
            {
              "html": [
                "<pre style=\"color:red\">File &quot;[4]&quot;, line 7, characters 4-13:\n",
                "Error: The function `print_int' expects one argument of type [int], \n",
                "       but it is given one argument of type [int ref].\n",
                "\n",
                "You probably forgot a `!' operator somewhere.\n",
                "\n",
                "Characters 110-119:\n",
                "      print_int (f 3 4)\n",
                "      ^^^^^^^^^\n",
                "</pre>"
              ],
              "output_type": "pyout",
              "prompt_number": 4,
              "metadata": {}
            }
          ],
          "input": [
            "let f x y = \n",
            "    let z = ref 0 in\n",
            "    z := !z + x;\n",
            "    z := !z + y;\n",
            "    z (* missing \"!\" here *)\n",
            "let _ = \n",
            "    print_int (f 3 4)"
          ],
          "metadata": {},
          "cell_type": "code",
          "prompt_number": 4,
          "language": "python",
          "collapsed": false
        },
        {
          "outputs": [
            {
              "html": [
                "<pre style=\"color:red\">File &quot;[5]&quot;, line 2, characters 29-34:\n",
                "Error: Unbound value facto.\n",
                "\n",
                "You are probably missing the `rec' keyword on line 1.\n",
                "Characters 44-49:\n",
                "      if n = 0 then 1 else n * facto (n-1)\n",
                "                               ^^^^^\n",
                "</pre>"
              ],
              "output_type": "pyout",
              "prompt_number": 5,
              "metadata": {}
            }
          ],
          "input": [
            "let facto n = \n",
            "    if n = 0 then 1 else n * facto (n-1)"
          ],
          "metadata": {},
          "cell_type": "code",
          "prompt_number": 5,
          "language": "python",
          "collapsed": false
        },
        {
          "outputs": [
            {
              "html": [
                "<pre style=\"color:red\">File &quot;[6]&quot;, line 2, characters 10-11:\n",
                "Error: This expression is the condition of a while loop,\n",
                "        so it should have type [bool] but it has type [int].\n",
                "       \n",
                "       \n",
                "Characters 19-20:\n",
                "      while 1 do () done\n",
                "            ^\n",
                "</pre>"
              ],
              "output_type": "pyout",
              "prompt_number": 6,
              "metadata": {}
            }
          ],
          "input": [
            "let _ = \n",
            "    while 1 do () done"
          ],
          "metadata": {},
          "cell_type": "code",
          "prompt_number": 6,
          "language": "python",
          "collapsed": false
        },
        {
          "outputs": [
            {
              "html": [
                "<pre style=\"color:red\">File &quot;[7]&quot;, line 2, characters 17-20:\n",
                "Error: This expression is the result of a conditional with no else branch,\n",
                "        so it should have type [unit] but it has type ['a list].\n",
                "       \n",
                "       \n",
                "Characters 30-33:\n",
                "     if x &gt; y then [x] (* missing &quot;else [y]&quot; *) \n",
                "                   ^^^\n",
                "</pre>"
              ],
              "output_type": "pyout",
              "prompt_number": 7,
              "metadata": {}
            }
          ],
          "input": [
            "let f x y = \n",
            "   if x > y then [x] (* missing \"else [y]\" *) "
          ],
          "metadata": {},
          "cell_type": "code",
          "prompt_number": 7,
          "language": "python",
          "collapsed": false
        },
        {
          "outputs": [
            {
              "html": [
                "<pre style=\"color:red\">File &quot;[8]&quot;, line 2, characters 4-25:\n",
                "Error: The then-branch has type [int] \n",
                "       but the else-branch has type \n",
                "       [float]. \n",
                "       Cannot unify type [int] with type [float].\n",
                "                   \n",
                "Characters 15-36:\n",
                "      if b then 0 else 3.14 (* incompatible else type *)\n",
                "      ^^^^^^^^^^^^^^^^^^^^^\n",
                "</pre>"
              ],
              "output_type": "pyout",
              "prompt_number": 8,
              "metadata": {}
            }
          ],
          "input": [
            "let f b = \n",
            "    if b then 0 else 3.14 (* incompatible else type *)"
          ],
          "metadata": {},
          "cell_type": "code",
          "prompt_number": 8,
          "language": "python",
          "collapsed": false
        },
        {
          "outputs": [
            {
              "html": [
                "<pre style=\"color:red\">File &quot;[9]&quot;, line 3, characters 14-28:\n",
                "Error: the previous branches produce values of type [int] \n",
                "       but this branch has type [float].\n",
                "       \n",
                "       \n",
                "Characters 145-159:\n",
                "      | a::_ -&gt; float_of_int a\n",
                "                ^^^^^^^^^^^^^^\n",
                "</pre>"
              ],
              "output_type": "pyout",
              "prompt_number": 9,
              "metadata": {}
            }
          ],
          "input": [
            "let headval = function (* intended to be of type [int list -> float] *)\n",
            "    | [] -> 0          (* intended [0.] rather then [0] *)\n",
            "    | a::_ -> float_of_int a"
          ],
          "metadata": {},
          "cell_type": "code",
          "prompt_number": 9,
          "language": "python",
          "collapsed": false
        },
        {
          "outputs": [
            {
              "html": [
                "<pre style=\"color:red\">File &quot;[10]&quot;, line 3, characters 14-26:\n",
                "Error: the previous branches produce values of type [int] \n",
                "       but this branch has type [float].\n",
                "       \n",
                "       \n",
                "Characters 102-114:\n",
                "      | a::l -&gt; a +. (sum l)  (* or it might be +. instead of + *)\n",
                "                ^^^^^^^^^^^^\n",
                "</pre>"
              ],
              "output_type": "pyout",
              "prompt_number": 10,
              "metadata": {}
            }
          ],
          "input": [
            "let rec sum = function\n",
            "    | [] -> 0               (* error might be 0 instead of 0. *)\n",
            "    | a::l -> a +. (sum l)  (* or it might be +. instead of + *)"
          ],
          "metadata": {},
          "cell_type": "code",
          "prompt_number": 10,
          "language": "python",
          "collapsed": false
        },
        {
          "outputs": [
            {
              "html": [
                "<pre style=\"color:red\">File &quot;[11]&quot;, line 4, characters 9-20:\n",
                "Error: The function `print_float' expects one argument of type [float], \n",
                "       but it is given one argument of type [int].\n",
                "\n",
                "\n",
                "Characters 53-64:\n",
                "      else print_float x\n",
                "           ^^^^^^^^^^^\n",
                "</pre>"
              ],
              "output_type": "pyout",
              "prompt_number": 11,
              "metadata": {}
            }
          ],
          "input": [
            "let f b x = \n",
            "    if b \n",
            "    then print_int x\n",
            "    else print_float x"
          ],
          "metadata": {},
          "cell_type": "code",
          "prompt_number": 11,
          "language": "python",
          "collapsed": false
        },
        {
          "outputs": [
            {
              "html": [
                "<pre style=\"color:red\">File &quot;[12]&quot;, line 2, characters 21-22:\n",
                "Error: The function `+' expects 2 arguments of types [int] and [int], \n",
                "       but it is given 2 arguments of types [float] and [float].\n",
                "\n",
                "\n",
                "Characters 30-31:\n",
                "      print_float (2.0 + 3.0)   (* should be [+.] instead of [+] *)\n",
                "                       ^\n",
                "</pre>"
              ],
              "output_type": "pyout",
              "prompt_number": 12,
              "metadata": {}
            }
          ],
          "input": [
            "let _ = \n",
            "    print_float (2.0 + 3.0)   (* should be [+.] instead of [+] *)"
          ],
          "metadata": {},
          "cell_type": "code",
          "prompt_number": 12,
          "language": "python",
          "collapsed": false
        },
        {
          "outputs": [
            {
              "html": [
                "<pre style=\"color:red\">File &quot;[13]&quot;, line 2, characters 9-10:\n",
                "Error: The function `-' expects 2 arguments of types [int] and [int], \n",
                "       but it is given 2 arguments of types [int -&gt; int] and [int].\n",
                "\n",
                "\n",
                "Characters 18-19:\n",
                "      succ -1    (* missing parenthesis around [-1] *)\n",
                "           ^\n",
                "</pre>"
              ],
              "output_type": "pyout",
              "prompt_number": 13,
              "metadata": {}
            }
          ],
          "input": [
            "let _ = \n",
            "    succ -1    (* missing parenthesis around [-1] *)"
          ],
          "metadata": {},
          "cell_type": "code",
          "prompt_number": 13,
          "language": "python",
          "collapsed": false
        },
        {
          "outputs": [
            {
              "html": [
                "<pre style=\"color:red\">File &quot;[14]&quot;, line 1, characters 8-22:\n",
                "Error: The function `List.fold_left' expects 3 arguments of types \n",
                "       ['a -&gt; 'b -&gt; 'a] and ['a] and ['b list], \n",
                "       but it is given 3 arguments of types [int -&gt; int -&gt; int]\n",
                "        and [int list] and [int].\n",
                "\n",
                "\n",
                "Characters 8-22:\n",
                "  let _ = List.fold_left (fun acc x -&gt; acc + x) [1;2;3] 0\n",
                "          ^^^^^^^^^^^^^^\n",
                "</pre>"
              ],
              "output_type": "pyout",
              "prompt_number": 14,
              "metadata": {}
            }
          ],
          "input": [
            "let _ = List.fold_left (fun acc x -> acc + x) [1;2;3] 0\n",
            "(* above, the last two arguments of fold_left were swapped *)"
          ],
          "metadata": {},
          "cell_type": "code",
          "prompt_number": 14,
          "language": "python",
          "collapsed": false
        },
        {
          "outputs": [
            {
              "html": [
                "<pre style=\"color:red\">File &quot;[15]&quot;, line 2, characters 4-18:\n",
                "Error: The function `List.fold_left' expects 3 arguments of types \n",
                "       ['a -&gt; 'b -&gt; 'a] and ['a] and ['b list], \n",
                "       but it is given 3 arguments of types ['c -&gt; 'c list -&gt; 'c list]\n",
                "        and ['d list] and [int list].\n",
                "\n",
                "The type variable 'c occurs inside 'c list\n",
                "\n",
                "Characters 26-40:\n",
                "      List.fold_left (fun x acc -&gt;  if f x then x::acc else acc) [] [1;2;3]\n",
                "      ^^^^^^^^^^^^^^\n",
                "</pre>"
              ],
              "output_type": "pyout",
              "prompt_number": 15,
              "metadata": {}
            }
          ],
          "input": [
            "let rev_filter f l = \n",
            "    List.fold_left (fun x acc ->  if f x then x::acc else acc) [] [1;2;3]\n",
            "(* swapped the parameters of the higher order function *)"
          ],
          "metadata": {},
          "cell_type": "code",
          "prompt_number": 15,
          "language": "python",
          "collapsed": false
        },
        {
          "outputs": [
            {
              "html": [
                "<pre style=\"color:red\">File &quot;[16]&quot;, line 1, characters 8-16:\n",
                "Error: The function `List.map' expects 2 arguments of types ['a -&gt; 'b]\n",
                "        and ['a list], but it is given 2 arguments of types [int -&gt; int]\n",
                "        and [float list].\n",
                "\n",
                "\n",
                "Characters 8-16:\n",
                "  let _ = List.map (fun x -&gt; x + 1) [2.0; 3.0]\n",
                "          ^^^^^^^^\n",
                "</pre>"
              ],
              "output_type": "pyout",
              "prompt_number": 16,
              "metadata": {}
            }
          ],
          "input": [
            "let _ = List.map (fun x -> x + 1) [2.0; 3.0]\n",
            "(* should have been [+.] instead of [+] or\n",
            "   should have been [2;3] instead of [2.0;3.0] *)"
          ],
          "metadata": {},
          "cell_type": "code",
          "prompt_number": 16,
          "language": "python",
          "collapsed": false
        },
        {
          "outputs": [
            {
              "html": [
                "<pre style=\"color:slategray;max-height:100px;overflow:hidden\" onclick=\"if (this.style.maxHeight === 'none') this.style.maxHeight = '100px'; else this.style.maxHeight = 'none'; \">val f : ?x:bool -&gt; 'a -&gt; ?z:'a list -&gt; t:bool -&gt; 'a list -&gt; 'a list = &lt;fun&gt;\n",
                "</pre>"
              ],
              "output_type": "pyout",
              "prompt_number": 17,
              "metadata": {}
            },
            {
              "html": [
                "<pre style=\"color:red\">File &quot;[17]&quot;, line 6, characters 4-5:\n",
                "Error: The function `f' expects 5 arguments of types ?x[bool option] and \n",
                "       ['a] and ?z['a list option] and ~t[bool] and ['a list], \n",
                "       but it is given 4 arguments of types ~x[bool] and [int] and ~t[bool]\n",
                "        and [float list].\n",
                "\n",
                "\n",
                "Characters 133-134:\n",
                "      f ~x:false 0 ~t:true [3.0]\n",
                "      ^\n",
                "</pre>"
              ],
              "output_type": "pyout",
              "prompt_number": 17,
              "metadata": {}
            }
          ],
          "input": [
            "let f ?(x=true) y ?z ~t u = \n",
            "    if x && t\n",
            "        then ((match z with None -> [y] | Some x -> x)) @ u\n",
            "        else [y]\n",
            "let _ = \n",
            "    f ~x:false 0 ~t:true [3.0]"
          ],
          "metadata": {},
          "cell_type": "code",
          "prompt_number": 17,
          "language": "python",
          "collapsed": false
        },
        {
          "outputs": [
            {
              "html": [
                "<pre style=\"color:red\">File &quot;[18]&quot;, line 1, characters 25-29:\n",
                "Error: This expression is the body of a for loop, so it should have type \n",
                "       [unit] but it has type [bool].\n",
                "       \n",
                "       \n",
                "Characters 25-29:\n",
                "  let _ = for i=0 to 10 do true done\n",
                "                           ^^^^\n",
                "</pre>"
              ],
              "output_type": "pyout",
              "prompt_number": 18,
              "metadata": {}
            }
          ],
          "input": [
            "let _ = for i=0 to 10 do true done"
          ],
          "metadata": {},
          "cell_type": "code",
          "prompt_number": 18,
          "language": "python",
          "collapsed": false
        },
        {
          "outputs": [],
          "input": [],
          "metadata": {},
          "cell_type": "code",
          "language": "python",
          "collapsed": false
        }
      ],
      "metadata": {}
    }
  ],
  "metadata": { "name": "", "language": "ocaml" },
  "nbformat": 3,
  "nbformat_minor": 0
}