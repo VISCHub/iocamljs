{
  "worksheets": [
    {
      "cells": [
        {
          "source": [
            "Github GIST API"
          ],
          "metadata": {},
          "cell_type": "heading",
          "level": 1
        },
        {
          "source": [
            "Enter your Github username and password\n",
            "\n",
            "username: <input type=\"text\" id=\"username\">\n",
            "\n",
            "password: <input type=\"password\" id=\"password\">"
          ],
          "metadata": {},
          "cell_type": "markdown"
        },
        {
          "source": [
            "Plumbing"
          ],
          "metadata": {},
          "cell_type": "heading",
          "level": 3
        },
        {
          "outputs": [],
          "input": [
            "let get_element e = \n",
            "    let d = Dom_html.document in\n",
            "    Js.Opt.get \n",
            "        (d##getElementById (Js.string e))\n",
            "        (fun () -> assert false)\n",
            "let get_input n =\n",
            "    match Dom_html.tagged (get_element n) with\n",
            "    | Dom_html.Input(x) -> x\n",
            "    | _ -> failwith (\"couldn't find text element\" ^ n)\n",
            "let value n = Js.to_string (get_input n)##value"
          ],
          "metadata": {},
          "cell_type": "code",
          "language": "python",
          "collapsed": false
        },
        {
          "outputs": [],
          "input": [
            "open Github_js"
          ],
          "metadata": {},
          "cell_type": "code",
          "language": "python",
          "collapsed": false
        },
        {
          "source": [
            "Get token from access code"
          ],
          "metadata": {},
          "cell_type": "heading",
          "level": 1
        },
        {
          "source": [
            "We use an authorization code created through the git-jar tool installed with the ocaml-github package.  For this we need to know the name of the code created was `OCaml Github jar (API)`\n",
            "\n",
            "This command lists all access tokens (including the ones github sets up for us automatically)."
          ],
          "metadata": {},
          "cell_type": "markdown"
        },
        {
          "outputs": [],
          "input": [
            "lwt auth = Monad.run (Token.get_all ~user:(value \"username\") ~pass:(value \"password\") ())"
          ],
          "metadata": {},
          "cell_type": "code",
          "language": "python",
          "collapsed": false
        },
        {
          "source": [
            "Find our authorization code and convert it to a Token.t (it basically is already - there are other ways to do this authorization though)."
          ],
          "metadata": {},
          "cell_type": "markdown"
        },
        {
          "outputs": [],
          "input": [
            "let access_code = \n",
            "    List.find Github_t.(fun auth -> if auth.auth_app.app_name = \"OCaml Github jar (API)\" then true else false) auth\n",
            "let token = Token.of_auth access_code"
          ],
          "metadata": {},
          "cell_type": "code",
          "language": "python",
          "collapsed": false
        },
        {
          "source": [
            "GIST API"
          ],
          "metadata": {},
          "cell_type": "heading",
          "level": 1
        },
        {
          "source": [
            "Some of these API calls can take an optional access token, others require it and yet others do different things based on whether it is present or not.\n",
            "\n",
            "One adavantage of using an access token even if it is not necessarily needed is a higher rate limit (number of APIs calls Github allows per hour - 60 without a token and 5000 with it)."
          ],
          "metadata": {},
          "cell_type": "markdown"
        },
        {
          "source": [
            "Listing GISTs"
          ],
          "metadata": {},
          "cell_type": "heading",
          "level": 3
        },
        {
          "source": [
            "Lists all gists based on a username.  `Token` is optional. "
          ],
          "metadata": {},
          "cell_type": "markdown"
        },
        {
          "outputs": [],
          "input": [
            "lwt gists = Monad.run (Gist.list_users ~token ~user:(value \"username\") ())"
          ],
          "metadata": {},
          "cell_type": "code",
          "language": "python",
          "collapsed": false
        },
        {
          "source": [
            "List all gists\n",
            "\n",
            "* with `token` for the authenticated user\n",
            "* without `token` all public gists"
          ],
          "metadata": {},
          "cell_type": "markdown"
        },
        {
          "outputs": [],
          "input": [
            "lwt gists = Monad.run (Gist.list ~token ())"
          ],
          "metadata": {},
          "cell_type": "code",
          "language": "python",
          "collapsed": false
        },
        {
          "source": [
            "List all public gists.  `Token` optional."
          ],
          "metadata": {},
          "cell_type": "markdown"
        },
        {
          "outputs": [],
          "input": [
            "lwt gists = Monad.run (Gist.list_all_public ())"
          ],
          "metadata": {},
          "cell_type": "code",
          "language": "python",
          "collapsed": false
        },
        {
          "source": [
            "List a users starred gists.  `Token` required."
          ],
          "metadata": {},
          "cell_type": "markdown"
        },
        {
          "outputs": [],
          "input": [
            "lwt gists = Monad.run (Gist.list_starred ~token:token ())"
          ],
          "metadata": {},
          "cell_type": "code",
          "language": "python",
          "collapsed": false
        },
        {
          "source": [
            "Get a GIST"
          ],
          "metadata": {},
          "cell_type": "heading",
          "level": 3
        },
        {
          "source": [
            "Get a GIST given its' `ID`.  `Token` optional.  The contents of all files in the GIST is returned.\n",
            "\n",
            "##### Truncation\n",
            "\n",
            "The Gist API provides up to one megabyte of content for each file in the gist. Every call to retrieve a gist through the API has a key called truncated. If truncated is true, the file is too large and only a portion of the contents were returned in content.\n",
            "\n",
            "If you need the full contents of the file, you can make a GET request to the URL specified by raw_url. Be aware that for files larger than ten megabytes, you’ll need to clone the gist via the URL provided by git_pull_url."
          ],
          "metadata": {},
          "cell_type": "markdown"
        },
        {
          "outputs": [],
          "input": [
            "lwt gist = Monad.run (Gist.get ~id:\"b2fe7bb1f70560546c4e\" ())"
          ],
          "metadata": {},
          "cell_type": "code",
          "language": "python",
          "collapsed": false
        },
        {
          "source": [
            "Create a GIST"
          ],
          "metadata": {},
          "cell_type": "heading",
          "level": 3
        },
        {
          "source": [
            "The contents of the GIST are described by a gist_create structure."
          ],
          "metadata": {},
          "cell_type": "markdown"
        },
        {
          "outputs": [],
          "input": [
            "let contents = Github_j.({\n",
            "    gist_create_description = \"Creating a new test GIST\";\n",
            "    gist_create_public = true;\n",
            "    gist_create_files = [\n",
            "        \"a.txt\", { gist_create_content = \"aaa\" };\n",
            "        \"b.txt\", { gist_create_content = \"bbb\" };\n",
            "        \"c.txt\", { gist_create_content = \"ccc\" };\n",
            "        \"d.txt\", { gist_create_content = \"ddd\" };\n",
            "    ];\n",
            "})"
          ],
          "metadata": {},
          "cell_type": "code",
          "language": "python",
          "collapsed": false
        },
        {
          "source": [
            "Create the GIST.  `Token` required.\n",
            "\n",
            "Note: Don't name your files \"gistfile\" with a numerical suffix. This is the format of the automatic naming scheme that Gist uses internally."
          ],
          "metadata": {},
          "cell_type": "markdown"
        },
        {
          "outputs": [],
          "input": [
            "lwt new_gist_info = Monad.run (Gist.create ~token ~contents ())"
          ],
          "metadata": {},
          "cell_type": "code",
          "language": "python",
          "collapsed": false
        },
        {
          "source": [
            "Edit a GIST"
          ],
          "metadata": {},
          "cell_type": "heading",
          "level": 3
        },
        {
          "source": [
            "Now we'll edit the GIST we just created.  First, create a gist_edits structure."
          ],
          "metadata": {},
          "cell_type": "markdown"
        },
        {
          "outputs": [],
          "input": [
            "let contents = Github_j.({\n",
            "    gist_edit_description = \"Editing the new GIST\";\n",
            "    gist_edit_files = [\n",
            "        \"a.txt\", {\n",
            "            gist_edit_filename = None;\n",
            "            gist_edit_content = Some \"AAA\"; (* updated file contents *)\n",
            "        };\n",
            "        \"b.txt\", {\n",
            "            gist_edit_filename = Some \"B.txt\"; (* rename file *)\n",
            "            gist_edit_content = Some \"BBB\"; (* updated file contents *)\n",
            "        };\n",
            "        \"c.txt\", {\n",
            "            gist_edit_filename = None; (* delete this file *)\n",
            "            gist_edit_content = None;\n",
            "        };\n",
            "        (* leave d.txt alone *)\n",
            "        \"e.txt\", { (* add a new file *)\n",
            "            gist_edit_filename = None;\n",
            "            gist_edit_content = Some \"eee\";\n",
            "        };\n",
            "    ];\n",
            "})"
          ],
          "metadata": {},
          "cell_type": "code",
          "language": "python",
          "collapsed": false
        },
        {
          "source": [
            "Perform edit operation.  Get the ID from the GIST just created.  `Token` required."
          ],
          "metadata": {},
          "cell_type": "markdown"
        },
        {
          "outputs": [],
          "input": [
            "let id = Github_t.(new_gist_info.gist_id)\n",
            "lwt updated_gist_info = Monad.run (Gist.edit ~token ~id ~contents ())"
          ],
          "metadata": {},
          "cell_type": "code",
          "language": "python",
          "collapsed": false
        },
        {
          "source": [
            "List commits"
          ],
          "metadata": {},
          "cell_type": "heading",
          "level": 3
        },
        {
          "source": [
            "List commits.  `Token` optional."
          ],
          "metadata": {},
          "cell_type": "markdown"
        },
        {
          "outputs": [],
          "input": [
            "lwt commits = Monad.run (Gist.commits ~token ~id ())"
          ],
          "metadata": {},
          "cell_type": "code",
          "language": "python",
          "collapsed": false
        },
        {
          "source": [
            "Starring"
          ],
          "metadata": {},
          "cell_type": "heading",
          "level": 3
        },
        {
          "source": [
            "Star then unstar a GIST.  `Token` required."
          ],
          "metadata": {},
          "cell_type": "markdown"
        },
        {
          "outputs": [],
          "input": [
            "lwt () = Monad.run (Gist.star ~token ~id ())"
          ],
          "metadata": {},
          "cell_type": "code",
          "language": "python",
          "collapsed": false
        },
        {
          "outputs": [],
          "input": [
            "lwt () = Monad.run (Gist.unstar ~token ~id ())"
          ],
          "metadata": {},
          "cell_type": "code",
          "language": "python",
          "collapsed": false
        },
        {
          "source": [
            "Forking"
          ],
          "metadata": {},
          "cell_type": "heading",
          "level": 3
        },
        {
          "source": [
            "List forks.  `Token` optional."
          ],
          "metadata": {},
          "cell_type": "markdown"
        },
        {
          "outputs": [],
          "input": [
            "lwt forks = Monad.run (Gist.list_forks ~id ())"
          ],
          "metadata": {},
          "cell_type": "code",
          "language": "python",
          "collapsed": false
        },
        {
          "source": [
            "Fork a gist - but not your own, so I'm choosing some random public gist.  `Token` required."
          ],
          "metadata": {},
          "cell_type": "markdown"
        },
        {
          "outputs": [],
          "input": [
            "lwt fork = Monad.run (Gist.fork ~token ~id:\"19d5e1a2ed86942d7b78\" ())"
          ],
          "metadata": {},
          "cell_type": "code",
          "language": "python",
          "collapsed": false
        },
        {
          "source": [
            "Delete GIST"
          ],
          "metadata": {},
          "cell_type": "heading",
          "level": 3
        },
        {
          "source": [
            "Delete a GIST.  We'll get rid of both the one we created, and the one we forked.  `Token` required."
          ],
          "metadata": {},
          "cell_type": "markdown"
        },
        {
          "outputs": [],
          "input": [
            "lwt () = Monad.run (Gist.delete ~token ~id ())"
          ],
          "metadata": {},
          "cell_type": "code",
          "language": "python",
          "collapsed": false
        },
        {
          "outputs": [],
          "input": [
            "lwt () = Monad.run (Gist.delete ~token ~id:fork.Github_t.gist_id ())"
          ],
          "metadata": {},
          "cell_type": "code",
          "language": "python",
          "collapsed": false
        }
      ],
      "metadata": {}
    }
  ],
  "metadata": { "name": "", "language": "ocaml" },
  "nbformat": 3,
  "nbformat_minor": 0
}