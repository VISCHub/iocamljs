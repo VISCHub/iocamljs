{
 "metadata": {
  "language": "ocaml",
  "name": ""
 },
 "nbformat": 3,
 "nbformat_minor": 0,
 "worksheets": [
  {
   "cells": [
    {
     "cell_type": "code",
     "collapsed": false,
     "input": [
      "Js.register_file ~name:\"file\" ~content:\"line 1\\nline 2\""
     ],
     "language": "python",
     "metadata": {},
     "outputs": [
      {
       "metadata": {},
       "output_type": "pyout",
       "prompt_number": 1,
       "text": [
        "- : unit = ()\n"
       ]
      }
     ],
     "prompt_number": 1
    },
    {
     "cell_type": "code",
     "collapsed": false,
     "input": [
      "let f = open_in \"file\"\n",
      "let a = input_line f\n",
      "let b = input_line f\n",
      "let c = input_line f\n",
      "let () = close_in f"
     ],
     "language": "python",
     "metadata": {},
     "outputs": [
      {
       "html": [
        "<b><pre style=\"color:red\">val f : in_channel = <abstr>\n",
        "val a : string = \"line 1\"\n",
        "val b : string = \"line 2\"\n",
        "Exception: End_of_file.\n",
        "</pre></b>"
       ],
       "metadata": {},
       "output_type": "pyout",
       "prompt_number": 2
      }
     ],
     "prompt_number": 2
    },
    {
     "cell_type": "code",
     "collapsed": false,
     "input": [
      "Js.register_file ~name:\"file2\" ~content:\"\""
     ],
     "language": "python",
     "metadata": {},
     "outputs": [
      {
       "metadata": {},
       "output_type": "pyout",
       "prompt_number": 3,
       "text": [
        "- : unit = ()\n"
       ]
      }
     ],
     "prompt_number": 3
    },
    {
     "cell_type": "code",
     "collapsed": false,
     "input": [
      "let fout = open_out \"file2\"\n",
      "let () = output_string fout \"line 1\\n\"\n",
      "let () = output_string fout \"line 2\\n\"\n",
      "let () = close_out fout"
     ],
     "language": "python",
     "metadata": {},
     "outputs": [
      {
       "metadata": {},
       "output_type": "pyout",
       "prompt_number": 4,
       "text": [
        "val fout : out_channel = <abstr>\n"
       ]
      }
     ],
     "prompt_number": 4
    },
    {
     "cell_type": "code",
     "collapsed": false,
     "input": [
      "let fin = open_in \"file2\"\n",
      "let a = input_line fin\n",
      "let b = input_line fin\n",
      "let c = input_line fin\n",
      "let () = close_in fin"
     ],
     "language": "python",
     "metadata": {},
     "outputs": [
      {
       "html": [
        "<b><pre style=\"color:red\">val fin : in_channel = <abstr>\n",
        "Exception: End_of_file.\n",
        "</pre></b>"
       ],
       "metadata": {},
       "output_type": "pyout",
       "prompt_number": 5
      }
     ],
     "prompt_number": 5
    },
    {
     "cell_type": "code",
     "collapsed": false,
     "input": [],
     "language": "python",
     "metadata": {},
     "outputs": []
    }
   ],
   "metadata": {}
  }
 ]
}