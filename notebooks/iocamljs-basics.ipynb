{
 "metadata": {
  "language": "ocaml",
  "name": ""
 },
 "nbformat": 3,
 "nbformat_minor": 0,
 "worksheets": [
  {
   "cells": [
    {
     "cell_type": "heading",
     "level": 1,
     "metadata": {},
     "source": [
      "IOCamlJS"
     ]
    },
    {
     "cell_type": "markdown",
     "metadata": {},
     "source": [
      "This is prototype of an OCaml toplevel compiled to Javascript and used as a kernel for the IPython notebook.\n",
      "\n",
      "Basic code execution seems to be fine."
     ]
    },
    {
     "cell_type": "code",
     "collapsed": false,
     "input": [
      "let a = 20\n",
      "let b = 40\n",
      "let c = a + b"
     ],
     "language": "python",
     "metadata": {},
     "outputs": [
      {
       "metadata": {},
       "output_type": "pyout",
       "prompt_number": 1,
       "text": [
        "val a : int = 20\n",
        "val b : int = 40\n",
        "val c : int = 60\n"
       ]
      }
     ],
     "prompt_number": 1
    },
    {
     "cell_type": "markdown",
     "metadata": {},
     "source": [
      "I have modified the standard js_of_ocaml toplevel runtime files so you have access to both stdout and stderr."
     ]
    },
    {
     "cell_type": "code",
     "collapsed": false,
     "input": [
      "Printf.printf \"c = %i\\n\" c"
     ],
     "language": "python",
     "metadata": {},
     "outputs": [
      {
       "output_type": "stream",
       "stream": "stdout",
       "text": [
        "c"
       ]
      },
      {
       "output_type": "stream",
       "stream": "stdout",
       "text": [
        " "
       ]
      },
      {
       "output_type": "stream",
       "stream": "stdout",
       "text": [
        "="
       ]
      },
      {
       "output_type": "stream",
       "stream": "stdout",
       "text": [
        " "
       ]
      },
      {
       "output_type": "stream",
       "stream": "stdout",
       "text": [
        "60"
       ]
      },
      {
       "output_type": "stream",
       "stream": "stdout",
       "text": [
        "\n"
       ]
      },
      {
       "metadata": {},
       "output_type": "pyout",
       "prompt_number": 2,
       "text": [
        "- : unit = ()\n"
       ]
      }
     ],
     "prompt_number": 2
    },
    {
     "cell_type": "code",
     "collapsed": false,
     "input": [
      "Printf.fprintf stderr \"c = %s\\n\" (string_of_int c)"
     ],
     "language": "python",
     "metadata": {},
     "outputs": [
      {
       "output_type": "stream",
       "stream": "stderr",
       "text": [
        "c"
       ]
      },
      {
       "output_type": "stream",
       "stream": "stderr",
       "text": [
        " "
       ]
      },
      {
       "output_type": "stream",
       "stream": "stderr",
       "text": [
        "="
       ]
      },
      {
       "output_type": "stream",
       "stream": "stderr",
       "text": [
        " "
       ]
      },
      {
       "output_type": "stream",
       "stream": "stderr",
       "text": [
        "60"
       ]
      },
      {
       "output_type": "stream",
       "stream": "stderr",
       "text": [
        "\n"
       ]
      },
      {
       "metadata": {},
       "output_type": "pyout",
       "prompt_number": 3,
       "text": [
        "- : unit = ()\n"
       ]
      }
     ],
     "prompt_number": 3
    },
    {
     "cell_type": "markdown",
     "metadata": {},
     "source": [
      "We have access to the same Iocaml.display function call (but no mime channel). "
     ]
    },
    {
     "cell_type": "code",
     "collapsed": false,
     "input": [
      "Iocaml.display \"text/html\" \"<b>hello</b> <i>world</i>\""
     ],
     "language": "python",
     "metadata": {},
     "outputs": [
      {
       "html": [
        "<b>hello</b> <i>world</i>"
       ],
       "metadata": {},
       "output_type": "display_data"
      },
      {
       "metadata": {},
       "output_type": "pyout",
       "prompt_number": 1,
       "text": [
        "- : unit = ()\n"
       ]
      }
     ],
     "prompt_number": 1
    },
    {
     "cell_type": "code",
     "collapsed": false,
     "input": [],
     "language": "python",
     "metadata": {},
     "outputs": []
    }
   ],
   "metadata": {}
  }
 ]
}