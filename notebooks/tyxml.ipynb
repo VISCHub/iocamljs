{
  "worksheets": [
    {
      "cells": [
        {
          "source": [
            "Setup"
          ],
          "metadata": {},
          "cell_type": "heading",
          "level": 1
        },
        {
          "outputs": [
            {
              "html": [
                "<pre style=\"color:slategray;max-height:100px;overflow:hidden\" \n",
                "onclick=\"\n",
                "if (this.style.maxHeight === 'none') \n",
                "    this.style.maxHeight = '100px';\n",
                "else\n",
                "    this.style.maxHeight = 'none'; \n",
                "\">module Tyxml_html = Html5\n",
                "</pre>"
              ],
              "output_type": "pyout",
              "prompt_number": 1,
              "metadata": {}
            },
            {
              "html": [
                "<pre style=\"color:slategray;max-height:100px;overflow:hidden\" \n",
                "onclick=\"\n",
                "if (this.style.maxHeight === 'none') \n",
                "    this.style.maxHeight = '100px';\n",
                "else\n",
                "    this.style.maxHeight = 'none'; \n",
                "\">module Html5 = Html5.M\n",
                "</pre>"
              ],
              "output_type": "pyout",
              "prompt_number": 1,
              "metadata": {}
            }
          ],
          "input": [
            "module Tyxml_html = Html5\n",
            "module Html5 = Html5.M"
          ],
          "metadata": {},
          "cell_type": "code",
          "prompt_number": 1,
          "language": "python",
          "collapsed": false
        },
        {
          "source": [
            "Display output as html"
          ],
          "metadata": {},
          "cell_type": "markdown"
        },
        {
          "outputs": [
            {
              "html": [
                "<pre style=\"color:slategray;max-height:100px;overflow:hidden\" \n",
                "onclick=\"\n",
                "if (this.style.maxHeight === 'none') \n",
                "    this.style.maxHeight = '100px';\n",
                "else\n",
                "    this.style.maxHeight = 'none'; \n",
                "\">val string_of_html : 'a Tyxml_html.M.elt list -&gt; string = &lt;fun&gt;\n",
                "</pre>"
              ],
              "output_type": "pyout",
              "prompt_number": 2,
              "metadata": {}
            },
            {
              "html": [
                "<pre style=\"color:slategray;max-height:100px;overflow:hidden\" \n",
                "onclick=\"\n",
                "if (this.style.maxHeight === 'none') \n",
                "    this.style.maxHeight = '100px';\n",
                "else\n",
                "    this.style.maxHeight = 'none'; \n",
                "\">val html : 'a Tyxml_html.M.elt list -&gt; unit = &lt;fun&gt;\n",
                "</pre>"
              ],
              "output_type": "pyout",
              "prompt_number": 2,
              "metadata": {}
            }
          ],
          "input": [
            "let string_of_html h = \n",
            "    let b = Buffer.create 16 in\n",
            "    Tyxml_html.P.print_list ~output:(Buffer.add_string b) h;\n",
            "    Buffer.contents b\n",
            "let html x = Iocaml.display \"text/html\" (string_of_html x)"
          ],
          "metadata": {},
          "cell_type": "code",
          "prompt_number": 2,
          "language": "python",
          "collapsed": false
        },
        {
          "source": [
            "Examples using syntax extension"
          ],
          "metadata": {},
          "cell_type": "heading",
          "level": 1
        },
        {
          "outputs": [
            {
              "html": [
                "<b>Hello <i>world</i></b>"
              ],
              "output_type": "display_data",
              "metadata": {}
            },
            {
              "html": [
                "<pre style=\"color:slategray;max-height:100px;overflow:hidden\" \n",
                "onclick=\"\n",
                "if (this.style.maxHeight === 'none') \n",
                "    this.style.maxHeight = '100px';\n",
                "else\n",
                "    this.style.maxHeight = 'none'; \n",
                "\">- : unit = &lt;unknown constructor&gt;\n",
                "</pre>"
              ],
              "output_type": "pyout",
              "prompt_number": 3,
              "metadata": {}
            }
          ],
          "input": [
            "html <:html5list< <b>Hello <i>world</i></b> >>"
          ],
          "metadata": {},
          "cell_type": "code",
          "prompt_number": 3,
          "language": "python",
          "collapsed": false
        },
        {
          "outputs": [
            {
              "html": [
                "<table>\n",
                "        <tr>\n",
                "            <td>a</td>\n",
                "            <td>b</td>\n",
                "        </tr>\n",
                "        <tr>\n",
                "            <td>c</td>\n",
                "            <td>d</td>\n",
                "        </tr>\n",
                "    </table>"
              ],
              "output_type": "display_data",
              "metadata": {}
            },
            {
              "html": [
                "<pre style=\"color:slategray;max-height:100px;overflow:hidden\" \n",
                "onclick=\"\n",
                "if (this.style.maxHeight === 'none') \n",
                "    this.style.maxHeight = '100px';\n",
                "else\n",
                "    this.style.maxHeight = 'none'; \n",
                "\">- : unit = &lt;unknown constructor&gt;\n",
                "</pre>"
              ],
              "output_type": "pyout",
              "prompt_number": 4,
              "metadata": {}
            }
          ],
          "input": [
            "html <:html5list<\n",
            "    <table>\n",
            "        <tr>\n",
            "            <td>a</td>\n",
            "            <td>b</td>\n",
            "        </tr>\n",
            "        <tr>\n",
            "            <td>c</td>\n",
            "            <td>d</td>\n",
            "        </tr>\n",
            "    </table>\n",
            ">>"
          ],
          "metadata": {},
          "cell_type": "code",
          "prompt_number": 4,
          "language": "python",
          "collapsed": false
        },
        {
          "source": [
            "Using anti-quotations"
          ],
          "metadata": {},
          "cell_type": "heading",
          "level": 1
        },
        {
          "outputs": [
            {
              "html": [
                "<pre style=\"color:slategray;max-height:100px;overflow:hidden\" \n",
                "onclick=\"\n",
                "if (this.style.maxHeight === 'none') \n",
                "    this.style.maxHeight = '100px';\n",
                "else\n",
                "    this.style.maxHeight = 'none'; \n",
                "\">val table :\n",
                "  ('a -&gt; string Html5.Xml.wrap) -&gt;\n",
                "  'a list list -&gt; [&gt; Html5_types.table ] Html5.elt = &lt;fun&gt;\n",
                "</pre>"
              ],
              "output_type": "pyout",
              "prompt_number": 5,
              "metadata": {}
            }
          ],
          "input": [
            "let table f x = \n",
            "    let row = List.map (fun x -> <:html5< <td>$str:f x$</td> >>) in\n",
            "    let rows = List.map (fun x -> <:html5< <tr>$list:row x$</tr> >>) in\n",
            "    <:html5< <table>$list:rows x$</table> >>"
          ],
          "metadata": {},
          "cell_type": "code",
          "prompt_number": 5,
          "language": "python",
          "collapsed": false
        },
        {
          "outputs": [
            {
              "html": [
                "<table><tr><td>0</td><td>1</td><td>2</td></tr><tr><td>3</td><td>4</td><td>5</td></tr></table>"
              ],
              "output_type": "display_data",
              "metadata": {}
            },
            {
              "html": [
                "<pre style=\"color:slategray;max-height:100px;overflow:hidden\" \n",
                "onclick=\"\n",
                "if (this.style.maxHeight === 'none') \n",
                "    this.style.maxHeight = '100px';\n",
                "else\n",
                "    this.style.maxHeight = 'none'; \n",
                "\">- : unit = &lt;unknown constructor&gt;\n",
                "</pre>"
              ],
              "output_type": "pyout",
              "prompt_number": 6,
              "metadata": {}
            }
          ],
          "input": [
            "html [table string_of_int \n",
            "    [ [0;1;2]; \n",
            "      [3;4;5]; \n",
            "    ] \n",
            "] "
          ],
          "metadata": {},
          "cell_type": "code",
          "prompt_number": 6,
          "language": "python",
          "collapsed": false
        },
        {
          "source": [
            "SVG output"
          ],
          "metadata": {},
          "cell_type": "heading",
          "level": 1
        },
        {
          "outputs": [
            {
              "html": [
                "<pre style=\"color:slategray;max-height:100px;overflow:hidden\" \n",
                "onclick=\"\n",
                "if (this.style.maxHeight === 'none') \n",
                "    this.style.maxHeight = '100px';\n",
                "else\n",
                "    this.style.maxHeight = 'none'; \n",
                "\">module Tyxml_svg = Svg\n",
                "</pre>"
              ],
              "output_type": "pyout",
              "prompt_number": 7,
              "metadata": {}
            },
            {
              "html": [
                "<pre style=\"color:slategray;max-height:100px;overflow:hidden\" \n",
                "onclick=\"\n",
                "if (this.style.maxHeight === 'none') \n",
                "    this.style.maxHeight = '100px';\n",
                "else\n",
                "    this.style.maxHeight = 'none'; \n",
                "\">module Svg = Svg.M\n",
                "</pre>"
              ],
              "output_type": "pyout",
              "prompt_number": 7,
              "metadata": {}
            }
          ],
          "input": [
            "module Tyxml_svg = Svg\n",
            "module Svg = Svg.M"
          ],
          "metadata": {},
          "cell_type": "code",
          "prompt_number": 7,
          "language": "python",
          "collapsed": false
        },
        {
          "outputs": [
            {
              "html": [
                "<pre style=\"color:slategray;max-height:100px;overflow:hidden\" \n",
                "onclick=\"\n",
                "if (this.style.maxHeight === 'none') \n",
                "    this.style.maxHeight = '100px';\n",
                "else\n",
                "    this.style.maxHeight = 'none'; \n",
                "\">val string_of_svg : 'a Tyxml_svg.M.elt list -&gt; string = &lt;fun&gt;\n",
                "</pre>"
              ],
              "output_type": "pyout",
              "prompt_number": 8,
              "metadata": {}
            },
            {
              "html": [
                "<pre style=\"color:slategray;max-height:100px;overflow:hidden\" \n",
                "onclick=\"\n",
                "if (this.style.maxHeight === 'none') \n",
                "    this.style.maxHeight = '100px';\n",
                "else\n",
                "    this.style.maxHeight = 'none'; \n",
                "\">val svg : 'a Tyxml_svg.M.elt list -&gt; unit = &lt;fun&gt;\n",
                "</pre>"
              ],
              "output_type": "pyout",
              "prompt_number": 8,
              "metadata": {}
            }
          ],
          "input": [
            "let string_of_svg h = \n",
            "    let b = Buffer.create 16 in\n",
            "    Tyxml_svg.P.print_list ~output:(Buffer.add_string b) h;\n",
            "    Buffer.contents b\n",
            "let svg x = Iocaml.display \"text/html\" (string_of_svg x)"
          ],
          "metadata": {},
          "cell_type": "code",
          "prompt_number": 8,
          "language": "python",
          "collapsed": false
        },
        {
          "outputs": [
            {
              "html": [
                "<svg width=\"100\" height=\"100\"><circle r=\"40\" cx=\"50\" cy=\"50\" /></svg>"
              ],
              "output_type": "display_data",
              "metadata": {}
            },
            {
              "html": [
                "<pre style=\"color:slategray;max-height:100px;overflow:hidden\" \n",
                "onclick=\"\n",
                "if (this.style.maxHeight === 'none') \n",
                "    this.style.maxHeight = '100px';\n",
                "else\n",
                "    this.style.maxHeight = 'none'; \n",
                "\">- : unit = &lt;unknown constructor&gt;\n",
                "</pre>"
              ],
              "output_type": "pyout",
              "prompt_number": 9,
              "metadata": {}
            }
          ],
          "input": [
            "svg <:svglist< <svg width=\"100\" height=\"100\"><circle r=\"40\" cx=\"50\" cy=\"50\" /></svg> >> "
          ],
          "metadata": {},
          "cell_type": "code",
          "prompt_number": 9,
          "language": "python",
          "collapsed": false
        }
      ],
      "metadata": {}
    }
  ],
  "metadata": { "name": "", "language": "ocaml" },
  "nbformat": 3,
  "nbformat_minor": 0
}