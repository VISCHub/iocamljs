{
 "metadata": {
  "language": "ocaml",
  "name": ""
 },
 "nbformat": 3,
 "nbformat_minor": 0,
 "worksheets": [
  {
   "cells": [
    {
     "cell_type": "heading",
     "level": 1,
     "metadata": {},
     "source": [
      "IOCamlJS"
     ]
    },
    {
     "cell_type": "markdown",
     "metadata": {},
     "source": [
      "This is prototype of an OCaml toplevel compiled to Javascript and used as a kernel for the IPython notebook.\n",
      "\n",
      "Basic code execution seems to be fine."
     ]
    },
    {
     "cell_type": "code",
     "collapsed": false,
     "input": [
      "let a = 20\n",
      "let b = 40\n",
      "let c = a + b"
     ],
     "language": "python",
     "metadata": {},
     "outputs": [
      {
       "metadata": {},
       "output_type": "pyout",
       "prompt_number": 1,
       "text": [
        "val a : int = 20\n",
        "val b : int = 40\n",
        "val c : int = 60\n"
       ]
      }
     ],
     "prompt_number": 1
    },
    {
     "cell_type": "heading",
     "level": 3,
     "metadata": {},
     "source": [
      "stdout/stderr"
     ]
    },
    {
     "cell_type": "markdown",
     "metadata": {},
     "source": [
      "I have modified the standard js_of_ocaml toplevel runtime files so you have access to both stdout and stderr.\n",
      "\n",
      "In the dev version of js\\_of\\_ocaml this is done by overwriting the functions js\\_print\\_stdout and js\\_print\\_stderr."
     ]
    },
    {
     "cell_type": "code",
     "collapsed": false,
     "input": [
      "Printf.printf \"c = %i\\n\" (c+1)"
     ],
     "language": "python",
     "metadata": {},
     "outputs": [
      {
       "output_type": "stream",
       "stream": "stdout",
       "text": [
        "c = 61\n"
       ]
      },
      {
       "metadata": {},
       "output_type": "pyout",
       "prompt_number": 10,
       "text": [
        "- : unit = ()\n"
       ]
      }
     ],
     "prompt_number": 10
    },
    {
     "cell_type": "code",
     "collapsed": false,
     "input": [
      "Printf.fprintf stderr \"c = %s\\n\" (string_of_int (c*2))"
     ],
     "language": "python",
     "metadata": {},
     "outputs": [
      {
       "output_type": "stream",
       "stream": "stderr",
       "text": [
        "c = 120"
       ]
      },
      {
       "metadata": {},
       "output_type": "pyout",
       "prompt_number": 11,
       "text": [
        "- : unit = ()\n"
       ]
      }
     ],
     "prompt_number": 11
    },
    {
     "cell_type": "markdown",
     "metadata": {},
     "source": [
      "The io code in the dev version does buffering - I think until a flush or newline."
     ]
    },
    {
     "cell_type": "code",
     "collapsed": false,
     "input": [
      "Printf.printf \"hello\""
     ],
     "language": "python",
     "metadata": {},
     "outputs": [
      {
       "metadata": {},
       "output_type": "pyout",
       "prompt_number": 14,
       "text": [
        "- : unit = ()\n"
       ]
      }
     ],
     "prompt_number": 14
    },
    {
     "cell_type": "markdown",
     "metadata": {},
     "source": [
      "...nothing yet..."
     ]
    },
    {
     "cell_type": "code",
     "collapsed": false,
     "input": [
      "Printf.printf \"\\n\""
     ],
     "language": "python",
     "metadata": {},
     "outputs": [
      {
       "output_type": "stream",
       "stream": "stdout",
       "text": [
        "hello\n"
       ]
      },
      {
       "metadata": {},
       "output_type": "pyout",
       "prompt_number": 15,
       "text": [
        "- : unit = ()\n"
       ]
      }
     ],
     "prompt_number": 15
    },
    {
     "cell_type": "heading",
     "level": 3,
     "metadata": {},
     "source": [
      "mime type display"
     ]
    },
    {
     "cell_type": "markdown",
     "metadata": {},
     "source": [
      "We have access to the same Iocaml.display function call (but no mime channel). "
     ]
    },
    {
     "cell_type": "code",
     "collapsed": false,
     "input": [
      "Iocaml.display \"text/html\" \"<b>hello</b> <i style=\\\"color:green\\\">world</i>\""
     ],
     "language": "python",
     "metadata": {},
     "outputs": [
      {
       "html": [
        "<b>hello</b> <i style=\"color:green\">world</i>"
       ],
       "metadata": {},
       "output_type": "display_data"
      },
      {
       "metadata": {},
       "output_type": "pyout",
       "prompt_number": 1,
       "text": [
        "- : unit = ()\n"
       ]
      }
     ],
     "prompt_number": 1
    }
   ],
   "metadata": {}
  }
 ]
}